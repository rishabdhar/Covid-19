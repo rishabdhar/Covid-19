{
 "cells": [
  {
   "cell_type": "code",
   "execution_count": 1,
   "metadata": {},
   "outputs": [],
   "source": [
    "import pandas as pd\n",
    "import numpy as np\n",
    "import matplotlib.pyplot as plt\n",
    "import seaborn as sns\n",
    "sns.set_style('whitegrid')\n",
    "%matplotlib inline"
   ]
  },
  {
   "cell_type": "code",
   "execution_count": 2,
   "metadata": {},
   "outputs": [
    {
     "name": "stdout",
     "output_type": "stream",
     "text": [
      "   S. No. Name of State / UT  Total Confirmed cases (Indian National)  \\\n",
      "0       1     Andhra Pradesh                                      757   \n",
      "1       2       Chhattisgarh                                       10   \n",
      "2       3              Delhi                                     2081   \n",
      "3       4            Gujarat                                     2066   \n",
      "4       5            Haryana                                     1000   \n",
      "\n",
      "   Total Confirmed cases ( Foreign National )  Cured  Death  \n",
      "0                                           0      2      4  \n",
      "1                                           0      2      3  \n",
      "2                                         700     50    104  \n",
      "3                                           0     25      8  \n",
      "4                                          19     11      3  \n"
     ]
    }
   ],
   "source": [
    "df = pd.read_csv(\"Covid cases in India.csv\")\n",
    "print(df.head())"
   ]
  },
  {
   "cell_type": "code",
   "execution_count": 3,
   "metadata": {},
   "outputs": [
    {
     "name": "stdout",
     "output_type": "stream",
     "text": [
      "  Name of State / UT  Total Confirmed cases (Indian National)  \\\n",
      "0     Andhra Pradesh                                      757   \n",
      "1       Chhattisgarh                                       10   \n",
      "2              Delhi                                     2081   \n",
      "3            Gujarat                                     2066   \n",
      "4            Haryana                                     1000   \n",
      "\n",
      "   Total Confirmed cases ( Foreign National )  Cured  Death  \n",
      "0                                           0      2      4  \n",
      "1                                           0      2      3  \n",
      "2                                         700     50    104  \n",
      "3                                           0     25      8  \n",
      "4                                          19     11      3  \n"
     ]
    }
   ],
   "source": [
    "df.drop(['S. No.'], axis=1, inplace=True)\n",
    "print(df.head())"
   ]
  },
  {
   "cell_type": "code",
   "execution_count": 4,
   "metadata": {},
   "outputs": [
    {
     "name": "stdout",
     "output_type": "stream",
     "text": [
      "  Name of State / UT  Total Confirmed cases (Indian National)  \\\n",
      "0     Andhra Pradesh                                      757   \n",
      "1       Chhattisgarh                                       10   \n",
      "2              Delhi                                     2081   \n",
      "3            Gujarat                                     2066   \n",
      "4            Haryana                                     1000   \n",
      "\n",
      "   Total Confirmed cases ( Foreign National )  Cured  Death  Total Cases  \n",
      "0                                           0      2      4          757  \n",
      "1                                           0      2      3           10  \n",
      "2                                         700     50    104         2781  \n",
      "3                                           0     25      8         2066  \n",
      "4                                          19     11      3         1019  \n"
     ]
    }
   ],
   "source": [
    "df['Total Cases'] = df['Total Confirmed cases (Indian National)']+df['Total Confirmed cases ( Foreign National )']\n",
    "print(df.head())"
   ]
  },
  {
   "cell_type": "code",
   "execution_count": 5,
   "metadata": {},
   "outputs": [
    {
     "name": "stdout",
     "output_type": "stream",
     "text": [
      "Total number cases in India are 20873\n"
     ]
    }
   ],
   "source": [
    "total_cases_overall = df['Total Cases'].sum()\n",
    "print('Total number cases in India are',total_cases_overall)\n"
   ]
  },
  {
   "cell_type": "code",
   "execution_count": 6,
   "metadata": {},
   "outputs": [
    {
     "name": "stdout",
     "output_type": "stream",
     "text": [
      "  Name of State / UT  Total Confirmed cases (Indian National)  \\\n",
      "0     Andhra Pradesh                                      757   \n",
      "1       Chhattisgarh                                       10   \n",
      "2              Delhi                                     2081   \n",
      "3            Gujarat                                     2066   \n",
      "4            Haryana                                     1000   \n",
      "\n",
      "   Total Confirmed cases ( Foreign National )  Cured  Death  Total Cases  \\\n",
      "0                                           0      2      4          757   \n",
      "1                                           0      2      3           10   \n",
      "2                                         700     50    104         2781   \n",
      "3                                           0     25      8         2066   \n",
      "4                                          19     11      3         1019   \n",
      "\n",
      "   Active Cases  \n",
      "0           751  \n",
      "1             5  \n",
      "2          2627  \n",
      "3          2033  \n",
      "4          1005  \n"
     ]
    }
   ],
   "source": [
    "df['Active Cases']= df['Total Cases']-(df['Death']+df['Cured'])\n",
    "print(df.head())"
   ]
  },
  {
   "cell_type": "code",
   "execution_count": 7,
   "metadata": {},
   "outputs": [
    {
     "name": "stdout",
     "output_type": "stream",
     "text": [
      "                    Total Cases\n",
      "Name of State / UT             \n",
      "Maharashtra                4672\n",
      "Delhi                      2781\n",
      "Gujarat                    2066\n",
      "Rajasthan                  1578\n",
      "Madhya Pradesh             1540\n",
      "Tamil Nadu                 1523\n",
      "Uttar Pradesh              1295\n",
      "Haryana                    1019\n",
      "Telengana                   922\n",
      "Punjab                      900\n",
      "Andhra Pradesh              757\n",
      "Chandigarh                  400\n",
      "Kerala                      372\n",
      "Goa                         200\n",
      "Karnataka                   200\n",
      "Jammu and Kashmir           158\n",
      "West Bengal                 120\n",
      "Manipur                     100\n",
      "Mizoram                      56\n",
      "Himachal Pradesh             50\n",
      "Odisha                       50\n",
      "Bihar                        39\n",
      "Uttarakhand                  35\n",
      "Ladakh                       20\n",
      "Chhattisgarh                 10\n",
      "Puducherry                   10\n"
     ]
    }
   ],
   "source": [
    "Total_Active_Cases = df.groupby('Name of State / UT')['Total Cases'].sum().sort_values(ascending=False).to_frame()\n",
    "print(Total_Active_Cases)"
   ]
  },
  {
   "cell_type": "code",
   "execution_count": 8,
   "metadata": {},
   "outputs": [
    {
     "data": {
      "image/png": "[encoded data removed]",
      "text/plain": [
       "<Figure size 1008x432 with 1 Axes>"
      ]
     },
     "metadata": {
      "needs_background": "light"
     },
     "output_type": "display_data"
    }
   ],
   "source": [
    "plt.figure(figsize=(14,6))\n",
    "sns.barplot(x='Name of State / UT', y='Total Cases',data=df)\n",
    "plt.xticks(rotation='vertical')\n",
    "plt.yticks(np.arange(0,5500,500))\n",
    "plt.show()"
   ]
  },
  {
   "cell_type": "code",
   "execution_count": null,
   "metadata": {},
   "outputs": [],
   "source": []
  }
 ],
 "metadata": {
  "kernelspec": {
   "display_name": "Python 3",
   "language": "python",
   "name": "python3"
  },
  "language_info": {
   "codemirror_mode": {
    "name": "ipython",
    "version": 3
   },
   "file_extension": ".py",
   "mimetype": "text/x-python",
   "name": "python",
   "nbconvert_exporter": "python",
   "pygments_lexer": "ipython3",
   "version": "3.7.7"
  }
 },
 "nbformat": 4,
 "nbformat_minor": 2
}
